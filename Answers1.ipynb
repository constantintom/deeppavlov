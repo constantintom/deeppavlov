{
 "cells": [
  {
   "cell_type": "markdown",
   "id": "81823bb0-c5dd-4cc3-856e-0c364d527a7c",
   "metadata": {},
   "source": [
    "1. You roll a biased coin with p(head)=0.65 seven times. What is the probability of getting more than two heads?\n",
    "\n"
   ]
  },
  {
   "cell_type": "code",
   "execution_count": 1,
   "id": "a02bf87c-a442-4ef7-a559-3c55a325c9d9",
   "metadata": {},
   "outputs": [
    {
     "name": "stdout",
     "output_type": "stream",
     "text": [
      " Вероятность: 0.94\n"
     ]
    }
   ],
   "source": [
    "from math import factorial as fct\n",
    "\n",
    "p_h = 0.65\n",
    "n = 7\n",
    "i = list(range(n+1))[3:]\n",
    "\n",
    "# Pk = Ckn * (p_h)**k * (1-p_h)**(n-k)\n",
    "# Ckn = n!/(k!*(n-k)!)\n",
    "Pk = 0\n",
    "for k in i:\n",
    "    Ckn = fct(n)/(fct(k)*fct(n-k))\n",
    "    Pk += Ckn * p_h**k * (1-p_h)**(n-k)   \n",
    "print(f' Вероятность: {Pk:.2f}')"
   ]
  },
  {
   "cell_type": "markdown",
   "id": "d932faeb-097e-4208-a9b5-51263699b8b6",
   "metadata": {},
   "source": [
    "2. Suppose you trained a classifier using a MLP with one output neuron. If the values of the output neuron activation is larger than a threshold\n",
    "the instance will be classified as positive. The result on the training set using F = 0.5 is summarized in the table below.\n",
    "Предположим, вы обучили классификатор, используя MLP с одним выходным нейроном.\n",
    "Если значения активации выходного нейрона превышают пороговое значение F = 0.5, экземпляр будет классифицирован как положительный.\n",
    "Результат использования обучающего набора обобщен в таблице ниже.\n",
    "PREDICT_CLASS: Spam=8, 16 NotSpam = 2, 974\n",
    "ACCUTAL_CLASS: Spam=8, 2 NotSpam = 16, 974\n",
    "\n",
    "Calculate precision and recall for the MLP classifier. What happens as you vary F?\n",
    "Рассчитайте точность и полноту для классификатора MLP. Что происходит, когда меняется F?"
   ]
  },
  {
   "cell_type": "code",
   "execution_count": 35,
   "id": "9b16fa02-7517-4456-a897-8e81fe1474dd",
   "metadata": {},
   "outputs": [
    {
     "name": "stdout",
     "output_type": "stream",
     "text": [
      " Precision: 0.33\n",
      " Recall: 0.80\n"
     ]
    }
   ],
   "source": [
    "# Decision\n",
    "TP = 8\n",
    "TN = 974\n",
    "FP = 16\n",
    "FN = 2\n",
    "\n",
    "print (f' Precision: {TP/(TP + FP):.2f}')\n",
    "print (f' Recall: {TP/ (TP + FN):.2f}')"
   ]
  },
  {
   "cell_type": "markdown",
   "id": "0bf5f29f-9d7e-4146-b91a-014f3e8ccada",
   "metadata": {},
   "source": [
    "3. Если уменьшить пороговое значение будет расти кол-во положительных экземпляров (правильных и ложных)  TP и FP, соответственно больше будет уменьшаться Precision.\n",
    "При увеличении порогового значения больше будет уменьшаться Recall "
   ]
  },
  {
   "cell_type": "code",
   "execution_count": null,
   "id": "2f39d93f-81a3-4f90-91b9-0dbc8cfb5dfc",
   "metadata": {},
   "outputs": [],
   "source": [
    "    Derivative of the vector with respect to the vector:\n",
    "y = xxTx\n",
    "Derive $$ \\frac{dy}{dx} = $$ "
   ]
  },
  {
   "cell_type": "code",
   "execution_count": 596,
   "id": "572fac6b-5a78-4c87-b2aa-cd2c4e508101",
   "metadata": {},
   "outputs": [
    {
     "data": {
      "text/latex": [
       "$\\displaystyle \\left[\\begin{matrix}1\\\\1\\\\1\\end{matrix}\\right]$"
      ],
      "text/plain": [
       "Matrix([\n",
       "[1],\n",
       "[1],\n",
       "[1]])"
      ]
     },
     "execution_count": 596,
     "metadata": {},
     "output_type": "execute_result"
    }
   ],
   "source": [
    "from sympy import *\n",
    "x = Symbol('x')\n",
    "dxT = Symbol('dxT')\n",
    "dy = Symbol('dy')\n",
    "m = Matrix([dx/dx, dxT/dx, dx/dx])\n",
    "Matrix([1, 1, 1])"
   ]
  }
 ],
 "metadata": {
  "kernelspec": {
   "display_name": "Python 3 (ipykernel)",
   "language": "python",
   "name": "python3"
  },
  "language_info": {
   "codemirror_mode": {
    "name": "ipython",
    "version": 3
   },
   "file_extension": ".py",
   "mimetype": "text/x-python",
   "name": "python",
   "nbconvert_exporter": "python",
   "pygments_lexer": "ipython3",
   "version": "3.7.11"
  }
 },
 "nbformat": 4,
 "nbformat_minor": 5
}
